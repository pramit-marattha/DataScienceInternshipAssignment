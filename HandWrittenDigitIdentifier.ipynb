{
 "cells": [
  {
   "cell_type": "markdown",
   "metadata": {},
   "source": [
    "# HandWritten Digit Recognition using MNIST dataset"
   ]
  },
  {
   "cell_type": "code",
   "execution_count": 170,
   "metadata": {},
   "outputs": [],
   "source": [
    "import numpy as np\n",
    "import cv2 as cv\n",
    "from tensorflow.keras.datasets import mnist\n",
    "from tensorflow.keras.layers import Dense, Flatten, MaxPooling2D, Dropout, Convolution2D\n",
    "from tensorflow.keras.models import Sequential\n",
    "from tensorflow.keras.utils import to_categorical\n",
    "import matplotlib.pyplot as plt"
   ]
  },
  {
   "cell_type": "code",
   "execution_count": 171,
   "metadata": {},
   "outputs": [],
   "source": [
    "# def load_data(path='mnist.npz'):\n",
    "#     path = get_file(path, origin='https://s3.amazonaws.com/img-datasets/mnist.npz', file_hash='8a61469f7ea1b51cbae51d4f78837e45')\n",
    "#     with np.load(path, allow_pickle=True) as f:\n",
    "#         X_train, y_train = f['x_train'], f['y_train']\n",
    "#         X_test, y_test = f['x_test'], f['y_test']\n",
    "#     return (X_train, y_train), (X_test, y_test)"
   ]
  },
  {
   "cell_type": "code",
   "execution_count": 172,
   "metadata": {},
   "outputs": [],
   "source": [
    "(X_train, y_train), (X_test, y_test) = mnist.load_data()"
   ]
  },
  {
   "cell_type": "markdown",
   "metadata": {},
   "source": [
    "## Data Preprocessing\n",
    "##### Reshaping the dataset inputs \"\"\" X_train & X_test \"\"\" to the shape that our model expects when training the model. \n",
    "###### Number of train sets \"\"\"X_train =====> 60000\"\"\"\",\n",
    "###### Number of test sets\"\"\"\" X_test =====> 10000\"\"\". \n",
    "###### shape of each image that is 28 * 28 pixels. "
   ]
  },
  {
   "cell_type": "code",
   "execution_count": 173,
   "metadata": {},
   "outputs": [],
   "source": [
    "## Checking out the shapes involved in dataset\n",
    "# print (\"X_train:=====> {}\".format(X_train.shape))\n",
    "# print (\"y_train:=====> {}\".format(y_train.shape))\n",
    "# print (\"X_test: =====> {}\".format(X_test.shape))\n",
    "# print (\"y_test: =====> {}\".format(y_test.shape))"
   ]
  },
  {
   "cell_type": "code",
   "execution_count": 174,
   "metadata": {},
   "outputs": [],
   "source": [
    "# Reshaping so as to convert images for our model\n",
    "X_train = X_train.reshape(60000, 28, 28, 1)\n",
    "X_test = X_test.reshape(10000, 28, 28, 1)"
   ]
  },
  {
   "cell_type": "code",
   "execution_count": 175,
   "metadata": {},
   "outputs": [
    {
     "name": "stdout",
     "output_type": "stream",
     "text": [
      "X_train:=====> (60000, 28, 28, 1)\n"
     ]
    }
   ],
   "source": [
    "print (\"X_train:=====> {}\".format(X_train.shape))"
   ]
  },
  {
   "cell_type": "code",
   "execution_count": 176,
   "metadata": {},
   "outputs": [
    {
     "name": "stdout",
     "output_type": "stream",
     "text": [
      "y_train:=====> (60000,)\n"
     ]
    }
   ],
   "source": [
    "print (\"y_train:=====> {}\".format(y_train.shape))"
   ]
  },
  {
   "cell_type": "code",
   "execution_count": 177,
   "metadata": {},
   "outputs": [
    {
     "name": "stdout",
     "output_type": "stream",
     "text": [
      "X_test: =====> (10000, 28, 28, 1)\n"
     ]
    }
   ],
   "source": [
    "print (\"X_test: =====> {}\".format(X_test.shape))"
   ]
  },
  {
   "cell_type": "code",
   "execution_count": 178,
   "metadata": {},
   "outputs": [
    {
     "name": "stdout",
     "output_type": "stream",
     "text": [
      "y_test: =====> (10000,)\n"
     ]
    }
   ],
   "source": [
    "print (\"y_test: =====> {}\".format(y_test.shape))"
   ]
  },
  {
   "cell_type": "markdown",
   "metadata": {},
   "source": [
    "### Encoding (Encoding the target variable.)\n",
    "###### coloumn will be created for each output and a binary variable is inputted for each kind\n",
    "Example ===> If image is of number 2 then it will be something like this ==> [0,0,1,0,0,0,0,0,0]"
   ]
  },
  {
   "cell_type": "code",
   "execution_count": 179,
   "metadata": {},
   "outputs": [],
   "source": [
    "# Encoding the labels \n",
    "y_train = to_categorical(y_train)\n",
    "y_test = to_categorical(y_test)"
   ]
  },
  {
   "cell_type": "markdown",
   "metadata": {},
   "source": [
    "## Building  model\n",
    "\n",
    "Sequential model is used because it is the easiest way to build a model in Keras.<br>\n",
    "It allows to build the model layer by layer.<br>\n",
    "*add()* is used for adding various layers.<br><br>                                                  "
   ]
  },
  {
   "cell_type": "code",
   "execution_count": 180,
   "metadata": {},
   "outputs": [],
   "source": [
    "model = Sequential()"
   ]
  },
  {
   "cell_type": "markdown",
   "metadata": {},
   "source": [
    "## Creating and declaring the layer\n",
    "\n",
    "\n",
    "##### Kernel_Size\n",
    "It is the size of the filter matrix for the convolution.<br>\n",
    "kernel_size = 3 means that a 3x3 filter matrix is going to be used.<br>\n",
    "##### pool_size\n",
    "It is refered to the size of the filter window which will be used by MaxPooling Layers for the max pooling operation.<br> \n",
    "pool_size = 2 means that a 2x2 window will be used for performing each iteration of max pooling operation.<br>\n",
    "##### Activation \n",
    "It is the activation function for the layer.<br> \n",
    "activation = 'ReLU' (Rectified Linear Activation). \n",
    "This activation function is known for performing well in terms of speed and output in the neural network.\n",
    "(In simple languge it speeds up the performance.)\n",
    "<br>\n",
    "Takes shape of 28 by 28 and 1 where 1 signifies as the greyscale"
   ]
  },
  {
   "cell_type": "code",
   "execution_count": 181,
   "metadata": {},
   "outputs": [],
   "source": [
    "FirstLayer = Convolution2D(64, kernel_size=3, activation='relu', input_shape=(28, 28, 1))"
   ]
  },
  {
   "cell_type": "markdown",
   "metadata": {},
   "source": [
    "max pooling layer 1 will fed to the next convolutional layer of 2 out of 32 layer nodes which will perform convolution operation on it using a window of size 3*3 "
   ]
  },
  {
   "cell_type": "code",
   "execution_count": 182,
   "metadata": {},
   "outputs": [],
   "source": [
    "SecondLayer = MaxPooling2D(pool_size=2)"
   ]
  },
  {
   "cell_type": "markdown",
   "metadata": {},
   "source": [
    "Then this max pooling layer 2 will do the asme max pooling operation as the above layer"
   ]
  },
  {
   "cell_type": "code",
   "execution_count": 183,
   "metadata": {},
   "outputs": [],
   "source": [
    "ThirdLayer = Convolution2D(32, kernel_size=3, activation='relu')"
   ]
  },
  {
   "cell_type": "code",
   "execution_count": null,
   "metadata": {},
   "outputs": [],
   "source": []
  },
  {
   "cell_type": "code",
   "execution_count": 184,
   "metadata": {},
   "outputs": [],
   "source": [
    "FourthLayer = MaxPooling2D(pool_size=2)"
   ]
  },
  {
   "cell_type": "markdown",
   "metadata": {},
   "source": [
    "The below dropout layer simplify the network further performing the dropout regularization.\n",
    "It drops out the random nodes from the network\n",
    "The number of nodes to be dropped depends on the comparison between each nodes achieved and the probabiltiy we provide "
   ]
  },
  {
   "cell_type": "code",
   "execution_count": 185,
   "metadata": {},
   "outputs": [],
   "source": [
    "FifthLayer = Dropout(0.5)"
   ]
  },
  {
   "cell_type": "markdown",
   "metadata": {},
   "source": [
    "Half of the nodes will be dropped because the we are setting up th eprobability to 0.5"
   ]
  },
  {
   "cell_type": "code",
   "execution_count": 186,
   "metadata": {},
   "outputs": [],
   "source": [
    "SixthLayer = Flatten()"
   ]
  },
  {
   "cell_type": "markdown",
   "metadata": {},
   "source": [
    "#### Flatten \n",
    "The connection between convolution and the dense layers \n"
   ]
  },
  {
   "cell_type": "code",
   "execution_count": 187,
   "metadata": {},
   "outputs": [],
   "source": [
    "SeventLayer = Dense(128, activation=\"relu\")"
   ]
  },
  {
   "cell_type": "markdown",
   "metadata": {},
   "source": [
    "using dense layer with relu activation"
   ]
  },
  {
   "cell_type": "code",
   "execution_count": 188,
   "metadata": {},
   "outputs": [],
   "source": [
    "EighthLayer = Dropout(0.5)"
   ]
  },
  {
   "cell_type": "code",
   "execution_count": null,
   "metadata": {},
   "outputs": [],
   "source": []
  },
  {
   "cell_type": "code",
   "execution_count": 189,
   "metadata": {},
   "outputs": [],
   "source": [
    "NinthLayer = Dense(10, activation='softmax')"
   ]
  },
  {
   "cell_type": "markdown",
   "metadata": {},
   "source": [
    "Final dense layer with the activation softmax it acts as the output layer for the network \n",
    "\n",
    "It consists of 10 nodes in our output layer one for each possible outcome which is from 0 to 9 \n",
    "\n",
    "softmax makes the output sum up to 1 , so that the output contains a series of possibillities \n",
    "finally the moderl can now predict the one with highest probability"
   ]
  },
  {
   "cell_type": "markdown",
   "metadata": {},
   "source": [
    "## Adding the layers to the model"
   ]
  },
  {
   "cell_type": "code",
   "execution_count": 190,
   "metadata": {},
   "outputs": [],
   "source": [
    "model.add(FirstLayer)\n",
    "model.add(SecondLayer)\n",
    "model.add(ThirdLayer)\n",
    "model.add(FourthLayer)\n",
    "model.add(FifthLayer)\n",
    "model.add(SixthLayer)\n",
    "model.add(SeventLayer)\n",
    "model.add(EighthLayer)\n",
    "model.add(NinthLayer)"
   ]
  },
  {
   "cell_type": "markdown",
   "metadata": {},
   "source": [
    "### Flow of the model\n"
   ]
  },
  {
   "cell_type": "markdown",
   "metadata": {},
   "source": [
    "## compile model\n",
    "Three parameter names __optimizer__ ,__loss function__ and __metrics__ is used. \n",
    "- __Optimizer__ - It controls the learning rate. We will be using 'adam' optimizer. It is a very good optimizer as it utilises the perks of both Stochastic gradient and RMSprop optimizers.\n",
    "- __Loss function__ - We will be using 'categorical_crossentropy' loss function. It is the most common choice for classification. A lower score corresponds to better performance.\n",
    "- __Metrics__ - To make things easier to interpret, we will be using 'accuracy' metrix to see the accuracy score on the validation set while training the model."
   ]
  },
  {
   "cell_type": "code",
   "execution_count": 191,
   "metadata": {},
   "outputs": [],
   "source": [
    "model.compile(optimizer='adam', loss='categorical_crossentropy', metrics=['accuracy'])"
   ]
  },
  {
   "cell_type": "markdown",
   "metadata": {},
   "source": [
    "'optimizer' controls the learning rate \n",
    "\n",
    "Using 'categorical_crossentropy' loss function because it is commonly used for classification \n",
    "\n",
    "using the accuracy matrix to see the accuracy score on the validation set while training the model \n"
   ]
  },
  {
   "cell_type": "markdown",
   "metadata": {},
   "source": [
    "## Training the model"
   ]
  },
  {
   "cell_type": "code",
   "execution_count": 192,
   "metadata": {},
   "outputs": [
    {
     "name": "stdout",
     "output_type": "stream",
     "text": [
      "Epoch 1/10\n",
      "1875/1875 [==============================] - 46s 24ms/step - loss: 0.9262 - accuracy: 0.7617 - val_loss: 0.1196 - val_accuracy: 0.9642\n",
      "Epoch 2/10\n",
      "1875/1875 [==============================] - 45s 24ms/step - loss: 0.2727 - accuracy: 0.9199 - val_loss: 0.0700 - val_accuracy: 0.9780\n",
      "Epoch 3/10\n",
      "1875/1875 [==============================] - 52s 28ms/step - loss: 0.2061 - accuracy: 0.9388 - val_loss: 0.0595 - val_accuracy: 0.9809\n",
      "Epoch 4/10\n",
      "1875/1875 [==============================] - 50s 27ms/step - loss: 0.1736 - accuracy: 0.9489 - val_loss: 0.0527 - val_accuracy: 0.9825\n",
      "Epoch 5/10\n",
      "1875/1875 [==============================] - 51s 27ms/step - loss: 0.1592 - accuracy: 0.9527 - val_loss: 0.0504 - val_accuracy: 0.9832\n",
      "Epoch 6/10\n",
      "1875/1875 [==============================] - 46s 25ms/step - loss: 0.1444 - accuracy: 0.9581 - val_loss: 0.0525 - val_accuracy: 0.9840\n",
      "Epoch 7/10\n",
      "1875/1875 [==============================] - 52s 28ms/step - loss: 0.1361 - accuracy: 0.9611 - val_loss: 0.0539 - val_accuracy: 0.9833\n",
      "Epoch 8/10\n",
      "1875/1875 [==============================] - 57s 30ms/step - loss: 0.1273 - accuracy: 0.9638 - val_loss: 0.0384 - val_accuracy: 0.9871\n",
      "Epoch 9/10\n",
      "1875/1875 [==============================] - 49s 26ms/step - loss: 0.1228 - accuracy: 0.9652 - val_loss: 0.0409 - val_accuracy: 0.9882\n",
      "Epoch 10/10\n",
      "1875/1875 [==============================] - 52s 28ms/step - loss: 0.1175 - accuracy: 0.9661 - val_loss: 0.0408 - val_accuracy: 0.9861\n"
     ]
    },
    {
     "data": {
      "text/plain": [
       "<tensorflow.python.keras.callbacks.History at 0x2782a5fb8d0>"
      ]
     },
     "execution_count": 192,
     "metadata": {},
     "output_type": "execute_result"
    }
   ],
   "source": [
    "model.fit(X_train, y_train, validation_data=(X_test, y_test), epochs=10)"
   ]
  },
  {
   "cell_type": "markdown",
   "metadata": {},
   "source": [
    "## Making a prediction"
   ]
  },
  {
   "cell_type": "markdown",
   "metadata": {},
   "source": [
    "## Testing the model on the real image\n",
    "### At first preprocessing the image"
   ]
  },
  {
   "cell_type": "code",
   "execution_count": null,
   "metadata": {},
   "outputs": [],
   "source": []
  },
  {
   "cell_type": "code",
   "execution_count": 214,
   "metadata": {},
   "outputs": [],
   "source": [
    "image = cv.imread('./handwrittenDigit.png')\n",
    "\n",
    "# converting the image into grayscale\n",
    "grey = cv.cvtColor(image.copy(), cv.COLOR_BGR2GRAY)\n",
    "\n",
    "# Binarize the grayscaled image (segregate the digit into white and making the rest black)\n",
    "ret, thresh = cv.threshold(grey.copy(), 75, 255, cv.THRESH_BINARY_INV)\n",
    "\n",
    "\n",
    "# Adding Further modification until it becomes a lot more similar to the image feeded in the training dataset \n",
    "_, outlines, _ = cv.findContours(thresh.copy(), cv.RETR_EXTERNAL, cv.CHAIN_APPROX_SIMPLE)\n",
    "preprocess = []\n",
    "for outline in outlines:\n",
    "    x,y,width,height = cv.boundingRect(outline)\n",
    "    \n",
    "    # Creating a rectangle around the digit in the original image \n",
    "    cv.rectangle(image, (x,y), (x+width, y+height), color=(0, 255, 0), thickness=2)\n",
    "    \n",
    "    # Refining out the digit from the image corresponding to the current outline in the for loop\n",
    "    refining_digit = thresh[y:y+height, x:x+width]\n",
    "    \n",
    "    # Resizing that digit into 18 by 18\n",
    "    resizing_digit = cv.resize(refining_digit, (18,18))\n",
    "    \n",
    "    # Padding the digit with 5 pixels of black color (zeros) in each side to finally produce the image of (28, 28)\n",
    "    padding = np.pad(resizing_digit, ((5,5),(5,5)), \"constant\", constant_values=0)\n",
    "    \n",
    "    # Adding the preprocessed digit to the list of preprocessed digits\n",
    "    preprocess.append(padding)"
   ]
  },
  {
   "cell_type": "code",
   "execution_count": 215,
   "metadata": {},
   "outputs": [
    {
     "data": {
      "image/png": "[encoded data removed]",
      "text/plain": [
       "<Figure size 432x288 with 1 Axes>"
      ]
     },
     "metadata": {
      "needs_background": "light"
     },
     "output_type": "display_data"
    }
   ],
   "source": [
    "plt.imshow(image)\n",
    "plt.show()\n",
    "prenp = np.array(preprocess)"
   ]
  },
  {
   "cell_type": "code",
   "execution_count": null,
   "metadata": {},
   "outputs": [],
   "source": []
  },
  {
   "cell_type": "code",
   "execution_count": 216,
   "metadata": {},
   "outputs": [
    {
     "name": "stdout",
     "output_type": "stream",
     "text": [
      "\n",
      "\n",
      "\n",
      "\n"
     ]
    },
    {
     "data": {
      "image/png": "[encoded data removed]",
      "text/plain": [
       "<Figure size 432x288 with 1 Axes>"
      ]
     },
     "metadata": {
      "needs_background": "light"
     },
     "output_type": "display_data"
    },
    {
     "name": "stdout",
     "output_type": "stream",
     "text": [
      "\n",
      "\n",
      " Prediction: 0\n",
      "\n",
      " Softmax Prediction from the neural network:\n",
      "\n",
      " [[6.4711809e-01 1.0435095e-03 2.1773863e-03 8.4961858e-03 1.2385094e-03\n",
      "  4.2887323e-02 9.9855274e-02 2.3574296e-04 1.9349377e-01 3.4542037e-03]]\n",
      "\n",
      "\n",
      "Pos Prediction: \n",
      "\n",
      " [[1. 0. 0. 0. 0. 0. 0. 0. 0. 0.]]\n"
     ]
    }
   ],
   "source": [
    "for refining_digit in preprocess:\n",
    "    prediction = model.predict(refining_digit.reshape(1, 28, 28, 1))   \n",
    "    print (\"\")\n",
    "    print (\"\")\n",
    "    print (\"\")\n",
    "    print (\"\")\n",
    "    plt.imshow(refining_digit.reshape(28, 28))\n",
    "    plt.show()\n",
    "    print(\"\\n\\n Prediction: {}\".format(np.argmax(prediction)))\n",
    "    print (\"\\n Softmax Prediction from the neural network:\\n\\n {}\".format(prediction))\n",
    "    shape_prediction = np.zeros(prediction.shape)\n",
    "    shape_prediction[0][np.argmax(prediction)] = 1\n",
    "    print (\"\\n\\nPos Prediction: \\n\\n {}\".format(shape_prediction))"
   ]
  }
 ],
 "metadata": {
  "kernelspec": {
   "display_name": "Python 3.7.2 64-bit",
   "language": "python",
   "name": "python37264bit80703674eb31479f9bdd4d3967985fbd"
  },
  "language_info": {
   "codemirror_mode": {
    "name": "ipython",
    "version": 3
   },
   "file_extension": ".py",
   "mimetype": "text/x-python",
   "name": "python",
   "nbconvert_exporter": "python",
   "pygments_lexer": "ipython3",
   "version": "3.7.2"
  }
 },
 "nbformat": 4,
 "nbformat_minor": 2
}
